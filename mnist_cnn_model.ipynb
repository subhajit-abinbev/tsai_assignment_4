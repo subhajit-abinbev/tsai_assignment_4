{
 "cells": [
  {
   "cell_type": "markdown",
   "id": "2a3e91a5",
   "metadata": {},
   "source": [
    "# Import Libraries"
   ]
  },
  {
   "cell_type": "code",
   "execution_count": 27,
   "id": "2ec98607",
   "metadata": {},
   "outputs": [],
   "source": [
    "import torch\n",
    "from torchvision import datasets, transforms\n",
    "import torch.nn as nn\n",
    "import torch.nn.functional as F\n",
    "import matplotlib.pyplot as plt\n",
    "import torch.optim as optim\n",
    "from torchsummary import summary"
   ]
  },
  {
   "cell_type": "markdown",
   "id": "bb9a017e",
   "metadata": {},
   "source": [
    "# Preprocessing"
   ]
  },
  {
   "cell_type": "markdown",
   "id": "1e3ef5c1",
   "metadata": {},
   "source": [
    "## Check CUDA"
   ]
  },
  {
   "cell_type": "code",
   "execution_count": 28,
   "id": "e6bf62e1",
   "metadata": {},
   "outputs": [
    {
     "name": "stdout",
     "output_type": "stream",
     "text": [
      "CUDA Available? True\n"
     ]
    }
   ],
   "source": [
    "# CUDA?\n",
    "cuda = torch.cuda.is_available()\n",
    "print(\"CUDA Available?\", cuda)"
   ]
  },
  {
   "cell_type": "markdown",
   "id": "7b81c381",
   "metadata": {},
   "source": [
    "## Mean and Standard Deviation"
   ]
  },
  {
   "cell_type": "code",
   "execution_count": 29,
   "id": "ee7951c2",
   "metadata": {},
   "outputs": [
    {
     "name": "stdout",
     "output_type": "stream",
     "text": [
      "tensor(0.1307) tensor(0.3081)\n"
     ]
    }
   ],
   "source": [
    "trainset = datasets.MNIST(root='./data', train=True, download=True, transform=transforms.ToTensor())\n",
    "\n",
    "loader = torch.utils.data.DataLoader(trainset, batch_size=len(trainset), shuffle=False)\n",
    "images, _ = next(iter(loader))\n",
    "print(images.mean(), images.std())\n",
    "\n",
    "train_mean = images.mean()\n",
    "train_std = images.std()"
   ]
  },
  {
   "cell_type": "markdown",
   "id": "f21bce87",
   "metadata": {},
   "source": [
    "## Load Data"
   ]
  },
  {
   "cell_type": "code",
   "execution_count": 30,
   "id": "436da682",
   "metadata": {},
   "outputs": [],
   "source": [
    "# Transform: convert to tensor + normalize\n",
    "transform = transforms.Compose([\n",
    "    transforms.ToTensor(),\n",
    "    transforms.Normalize((train_mean,), (train_std,))  # mean and standard deviation as calculated above\n",
    "])\n",
    "\n",
    "trainset = datasets.MNIST(root='./data', train=True, download=True, transform=transform)\n",
    "testset = datasets.MNIST(root='./data', train=False, download=True, transform=transform)\n",
    "\n",
    "trainloader = torch.utils.data.DataLoader(trainset, batch_size=128, shuffle=True)\n",
    "testloader = torch.utils.data.DataLoader(testset, batch_size=2000, shuffle=False)\n"
   ]
  },
  {
   "cell_type": "markdown",
   "id": "f69278f8",
   "metadata": {},
   "source": [
    "# EDA"
   ]
  },
  {
   "cell_type": "markdown",
   "id": "1ff8c97c",
   "metadata": {},
   "source": [
    "## Visualize Data"
   ]
  },
  {
   "cell_type": "code",
   "execution_count": 31,
   "id": "62293397",
   "metadata": {},
   "outputs": [
    {
     "data": {
      "image/png": "[encoded data removed]",
      "text/plain": [
       "<Figure size 640x480 with 12 Axes>"
      ]
     },
     "metadata": {},
     "output_type": "display_data"
    }
   ],
   "source": [
    "batch_data, batch_label = next(iter(trainloader))\n",
    "\n",
    "fig = plt.figure()\n",
    "\n",
    "for i in range(12):\n",
    "  plt.subplot(3,4,i+1)\n",
    "  plt.tight_layout()\n",
    "  plt.imshow(batch_data[i].squeeze(0), cmap='gray')\n",
    "  plt.title(batch_label[i].item())\n",
    "  plt.xticks([])\n",
    "  plt.yticks([])"
   ]
  },
  {
   "cell_type": "markdown",
   "id": "b5141faf",
   "metadata": {},
   "source": [
    "# Actual Modelling"
   ]
  },
  {
   "cell_type": "markdown",
   "id": "016e4a6e",
   "metadata": {},
   "source": [
    "## Approach 1 (Minimize parameters given test accuracy >= 95%)\n",
    "### Test Accuracy: 95.21% at 2174 trainable parameters"
   ]
  },
  {
   "cell_type": "markdown",
   "id": "54a8be2c",
   "metadata": {},
   "source": [
    "### Model Architecture"
   ]
  },
  {
   "cell_type": "code",
   "execution_count": 63,
   "id": "ddc49bf0",
   "metadata": {},
   "outputs": [],
   "source": [
    "class SmallCNN_1(nn.Module):\n",
    "    def __init__(self):\n",
    "        super(SmallCNN_1, self).__init__()\n",
    "        self.conv1 = nn.Conv2d(1, 4, 3, padding=1)\n",
    "        self.bn1 = nn.BatchNorm2d(4)\n",
    "        self.conv2 = nn.Conv2d(4, 4, 3, padding=1)\n",
    "        self.bn2 = nn.BatchNorm2d(4)\n",
    "        self.fc = nn.Linear(4*7*7, 10)\n",
    "\n",
    "    def forward(self, x):\n",
    "        x = F.leaky_relu(self.bn1(self.conv1(x)), 0.1)\n",
    "        x = F.max_pool2d(x, 2, 2)\n",
    "        x = F.leaky_relu(self.bn2(self.conv2(x)), 0.1)\n",
    "        x = F.max_pool2d(x, 2, 2)\n",
    "        x = x.view(-1, 4*7*7)\n",
    "        x = self.fc(x)\n",
    "        return x"
   ]
  },
  {
   "cell_type": "markdown",
   "id": "ff531920",
   "metadata": {},
   "source": [
    "### Training the Model"
   ]
  },
  {
   "cell_type": "code",
   "execution_count": 64,
   "id": "b7393660",
   "metadata": {},
   "outputs": [],
   "source": [
    "device = torch.device(\"cuda\" if torch.cuda.is_available() else \"cpu\")\n",
    "model = SmallCNN_1().to(device)\n",
    "\n",
    "criterion = nn.CrossEntropyLoss()\n",
    "optimizer = optim.Adam(model.parameters(), lr=0.001)\n",
    "\n",
    "# Train for 1 epoch\n",
    "model.train()\n",
    "for images, labels in trainloader:\n",
    "    images, labels = images.to(device), labels.to(device)\n",
    "\n",
    "    optimizer.zero_grad()\n",
    "    outputs = model(images)\n",
    "    loss = criterion(outputs, labels)\n",
    "    loss.backward()\n",
    "    optimizer.step()"
   ]
  },
  {
   "cell_type": "markdown",
   "id": "7c5f07f4",
   "metadata": {},
   "source": [
    "### Train and test accuracy"
   ]
  },
  {
   "cell_type": "code",
   "execution_count": 65,
   "id": "2faac4a0",
   "metadata": {},
   "outputs": [
    {
     "name": "stdout",
     "output_type": "stream",
     "text": [
      "Train Accuracy: 95.16%\n",
      "Test Accuracy: 95.21%\n"
     ]
    }
   ],
   "source": [
    "model.eval()\n",
    "correct, total = 0, 0\n",
    "\n",
    "with torch.no_grad():\n",
    "    for images, labels in trainloader:\n",
    "        images, labels = images.to(device), labels.to(device)\n",
    "        outputs = model(images)\n",
    "        _, predicted = torch.max(outputs.data, 1)\n",
    "        total += labels.size(0)\n",
    "        correct += (predicted == labels).sum().item()\n",
    "\n",
    "print(f\"Train Accuracy: {100 * correct / total:.2f}%\")\n",
    "\n",
    "with torch.no_grad():\n",
    "    for images, labels in testloader:\n",
    "        images, labels = images.to(device), labels.to(device)\n",
    "        outputs = model(images)\n",
    "        _, predicted = torch.max(outputs.data, 1)\n",
    "        total += labels.size(0)\n",
    "        correct += (predicted == labels).sum().item()\n",
    "\n",
    "print(f\"Test Accuracy: {100 * correct / total:.2f}%\")"
   ]
  },
  {
   "cell_type": "markdown",
   "id": "fa5a0611",
   "metadata": {},
   "source": [
    "### Model Summary"
   ]
  },
  {
   "cell_type": "code",
   "execution_count": 66,
   "id": "0d050537",
   "metadata": {},
   "outputs": [
    {
     "name": "stdout",
     "output_type": "stream",
     "text": [
      "----------------------------------------------------------------\n",
      "        Layer (type)               Output Shape         Param #\n",
      "================================================================\n",
      "            Conv2d-1            [-1, 4, 28, 28]              40\n",
      "       BatchNorm2d-2            [-1, 4, 28, 28]               8\n",
      "            Conv2d-3            [-1, 4, 14, 14]             148\n",
      "       BatchNorm2d-4            [-1, 4, 14, 14]               8\n",
      "            Linear-5                   [-1, 10]           1,970\n",
      "================================================================\n",
      "Total params: 2,174\n",
      "Trainable params: 2,174\n",
      "Non-trainable params: 0\n",
      "----------------------------------------------------------------\n",
      "Input size (MB): 0.00\n",
      "Forward/backward pass size (MB): 0.06\n",
      "Params size (MB): 0.01\n",
      "Estimated Total Size (MB): 0.07\n",
      "----------------------------------------------------------------\n"
     ]
    }
   ],
   "source": [
    "summary(model, input_size=(1, 28, 28))"
   ]
  },
  {
   "cell_type": "markdown",
   "id": "966e2830",
   "metadata": {},
   "source": [
    "## Approach 2 (Maximize test accuracy given parameters<25,000)\n",
    "### Test Accuracy: 98.19% at 24,548 trainable parameters"
   ]
  },
  {
   "cell_type": "markdown",
   "id": "982af7b6",
   "metadata": {},
   "source": [
    "### Model Architecture"
   ]
  },
  {
   "cell_type": "code",
   "execution_count": 74,
   "id": "f403d5ac",
   "metadata": {},
   "outputs": [],
   "source": [
    "class SmallCNN_2(nn.Module):\n",
    "    def __init__(self):\n",
    "        super(SmallCNN_2, self).__init__()\n",
    "        self.conv1 = nn.Conv2d(1, 8, 3, padding=1)\n",
    "        self.bn1 = nn.BatchNorm2d(8)\n",
    "\n",
    "        self.conv2 = nn.Conv2d(8, 16, 3, padding=1)\n",
    "        self.bn2 = nn.BatchNorm2d(16)\n",
    "        \n",
    "        self.conv3 = nn.Conv2d(16, 32, 3, padding=1)\n",
    "        self.bn3 = nn.BatchNorm2d(32)\n",
    "\n",
    "        self.dropout = nn.Dropout(0.25)\n",
    "\n",
    "        self.fc1 = nn.Linear(32*3*3, 62)\n",
    "        self.fc2 = nn.Linear(62, 10)\n",
    "\n",
    "    def forward(self, x):\n",
    "        x = F.leaky_relu(self.bn1(self.conv1(x)), 0.1)\n",
    "        x = F.max_pool2d(x, 2, 2)\n",
    "        x = F.leaky_relu(self.bn2(self.conv2(x)), 0.1)\n",
    "        x = F.max_pool2d(x, 2, 2)\n",
    "        x = F.leaky_relu(self.bn3(self.conv3(x)), 0.1)\n",
    "        x = F.max_pool2d(x, 2, 2)\n",
    "        x = x.view(-1, 32*3*3)\n",
    "        x = self.dropout(x)\n",
    "        x = F.leaky_relu(self.fc1(x), 0.1)\n",
    "        x = self.fc2(x)\n",
    "        return x"
   ]
  },
  {
   "cell_type": "markdown",
   "id": "91599f3d",
   "metadata": {},
   "source": [
    "### Model Training"
   ]
  },
  {
   "cell_type": "code",
   "execution_count": 75,
   "id": "233df8d9",
   "metadata": {},
   "outputs": [],
   "source": [
    "device = torch.device(\"cuda\" if torch.cuda.is_available() else \"cpu\")\n",
    "model = SmallCNN_2().to(device)\n",
    "\n",
    "criterion = nn.CrossEntropyLoss()\n",
    "optimizer = optim.Adam(model.parameters(), lr=0.001)\n",
    "\n",
    "# Train for 1 epoch\n",
    "model.train()\n",
    "for images, labels in trainloader:\n",
    "    images, labels = images.to(device), labels.to(device)\n",
    "\n",
    "    optimizer.zero_grad()\n",
    "    outputs = model(images)\n",
    "    loss = criterion(outputs, labels)\n",
    "    loss.backward()\n",
    "    optimizer.step()"
   ]
  },
  {
   "cell_type": "markdown",
   "id": "f0960c05",
   "metadata": {},
   "source": [
    "### Model Evaluation"
   ]
  },
  {
   "cell_type": "code",
   "execution_count": 76,
   "id": "9915b9a0",
   "metadata": {},
   "outputs": [
    {
     "name": "stdout",
     "output_type": "stream",
     "text": [
      "Train Accuracy: 98.01%\n",
      "Test Accuracy: 98.19%\n"
     ]
    }
   ],
   "source": [
    "def evaluate(model, loader, device):\n",
    "    model.eval()\n",
    "    correct = 0\n",
    "    total = 0\n",
    "\n",
    "    with torch.no_grad():\n",
    "        for images, labels in loader:\n",
    "            images, labels = images.to(device), labels.to(device)\n",
    "            outputs = model(images)\n",
    "            predicted = outputs.argmax(dim=1)\n",
    "            total += labels.size(0)\n",
    "            correct += (predicted == labels).sum().item()\n",
    "\n",
    "    return 100 * correct / total\n",
    "\n",
    "train_acc = evaluate(model, trainloader, device)\n",
    "test_acc = evaluate(model, testloader, device)\n",
    "\n",
    "print(f\"Train Accuracy: {train_acc:.2f}%\")\n",
    "print(f\"Test Accuracy: {test_acc:.2f}%\")"
   ]
  },
  {
   "cell_type": "markdown",
   "id": "3e440e20",
   "metadata": {},
   "source": [
    "### Model Summary"
   ]
  },
  {
   "cell_type": "code",
   "execution_count": 77,
   "id": "20b2eae2",
   "metadata": {},
   "outputs": [
    {
     "name": "stdout",
     "output_type": "stream",
     "text": [
      "----------------------------------------------------------------\n",
      "        Layer (type)               Output Shape         Param #\n",
      "================================================================\n",
      "            Conv2d-1            [-1, 8, 28, 28]              80\n",
      "       BatchNorm2d-2            [-1, 8, 28, 28]              16\n",
      "            Conv2d-3           [-1, 16, 14, 14]           1,168\n",
      "       BatchNorm2d-4           [-1, 16, 14, 14]              32\n",
      "            Conv2d-5             [-1, 32, 7, 7]           4,640\n",
      "       BatchNorm2d-6             [-1, 32, 7, 7]              64\n",
      "           Dropout-7                  [-1, 288]               0\n",
      "            Linear-8                   [-1, 62]          17,918\n",
      "            Linear-9                   [-1, 10]             630\n",
      "================================================================\n",
      "Total params: 24,548\n",
      "Trainable params: 24,548\n",
      "Non-trainable params: 0\n",
      "----------------------------------------------------------------\n",
      "Input size (MB): 0.00\n",
      "Forward/backward pass size (MB): 0.17\n",
      "Params size (MB): 0.09\n",
      "Estimated Total Size (MB): 0.27\n",
      "----------------------------------------------------------------\n"
     ]
    }
   ],
   "source": [
    "summary(model, input_size=(1, 28, 28))"
   ]
  },
  {
   "cell_type": "markdown",
   "id": "89bafb28",
   "metadata": {},
   "source": [
    "# End"
   ]
  }
 ],
 "metadata": {
  "kernelspec": {
   "display_name": "assignment_4_1",
   "language": "python",
   "name": "python3"
  },
  "language_info": {
   "codemirror_mode": {
    "name": "ipython",
    "version": 3
   },
   "file_extension": ".py",
   "mimetype": "text/x-python",
   "name": "python",
   "nbconvert_exporter": "python",
   "pygments_lexer": "ipython3",
   "version": "3.10.18"
  }
 },
 "nbformat": 4,
 "nbformat_minor": 5
}
